{
 "cells": [
  {
   "cell_type": "markdown",
   "id": "d387b5cd",
   "metadata": {},
   "source": [
    "print {\"hello world\"}"
   ]
  },
  {
   "cell_type": "code",
   "execution_count": null,
   "id": "b984b943",
   "metadata": {
    "vscode": {
     "languageId": "plaintext"
    }
   },
   "outputs": [],
   "source": [
    "print {\"hello world\"}"
   ]
  }
 ],
 "metadata": {
  "language_info": {
   "name": "python"
  }
 },
 "nbformat": 4,
 "nbformat_minor": 5
}
